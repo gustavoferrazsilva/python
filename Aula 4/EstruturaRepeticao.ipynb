{
 "cells": [
  {
   "cell_type": "markdown",
   "metadata": {},
   "source": [
    "Estruturas de Repetição"
   ]
  },
  {
   "cell_type": "code",
   "execution_count": 2,
   "metadata": {},
   "outputs": [
    {
     "name": "stdout",
     "output_type": "stream",
     "text": [
      "0\n",
      "1\n",
      "2\n",
      "3\n",
      "4\n",
      "5\n",
      "6\n",
      "7\n",
      "8\n",
      "9\n",
      "10\n"
     ]
    }
   ],
   "source": [
    "#Enquanto determinada condição for verdadeira, executa o código e o processo se repete\n",
    "x = 0\n",
    "while x <= 10:\n",
    "    print(x)\n",
    "    x += 1\n",
    "    #x = x +1\n",
    "\n"
   ]
  },
  {
   "cell_type": "markdown",
   "metadata": {},
   "source": [
    "Programa que receba um número e mostre o cálculo da tabuada"
   ]
  },
  {
   "cell_type": "code",
   "execution_count": null,
   "metadata": {},
   "outputs": [],
   "source": [
    "from os import system\n",
    "system ('cls')\n",
    "titulo = 'Tabuada Simples'\n",
    "print(titulo.center(60, '*'))\n",
    "\n",
    "x = 1\n",
    "mult = int (input('Informe o multiplicador: '))\n",
    "while x <= 10:\n",
    "    print(f'{mult} * {x} = {mult * x}')\n",
    "    x += 1"
   ]
  },
  {
   "cell_type": "code",
   "execution_count": null,
   "metadata": {},
   "outputs": [],
   "source": [
    "num = 0\n",
    "total = 10\n",
    "\n",
    "while num <= total:\n",
    "    print (num)\n",
    "    num += 1\n",
    "    if num == 5:\n",
    "        print (f' 50% concluído' )\n",
    "if num == 100:\n",
    "    print (f'100% processo encerrado' )"
   ]
  },
  {
   "cell_type": "markdown",
   "metadata": {},
   "source": [
    "Jogo da adivinhação"
   ]
  },
  {
   "cell_type": "code",
   "execution_count": null,
   "metadata": {},
   "outputs": [],
   "source": [
    "from os import system\n",
    "import random\n",
    "system('cls')\n",
    "titulo = 'JOGO DA ADIVINHAÇÃO'\n",
    "print(titulo.center(80, '*'))\n",
    "\n",
    "num = random.randint (1,10)\n",
    "\n",
    "tentativa = int(input('Adivinhe o número de 1 a 10: (0 - para sair'))\n",
    "while tentativa > 0:\n",
    "  if tentativa > num:\n",
    "    print('é menor, tente novamente')\n",
    "  elif tentativa < num:\n",
    "    print('é maior, tente novamente')\n",
    "  else:\n",
    "    print(f' UHULLL VOCÊ ACERTOU - {num}')\n",
    "  tentativa = int(input('Adivinhe o número de 1 a 10'))\n",
    "\n"
   ]
  },
  {
   "cell_type": "markdown",
   "metadata": {},
   "source": [
    "Número primo"
   ]
  },
  {
   "cell_type": "code",
   "execution_count": 4,
   "metadata": {},
   "outputs": [
    {
     "name": "stdout",
     "output_type": "stream",
     "text": [
      "**************************Verificador de número primo***************************\n"
     ]
    },
    {
     "ename": "NameError",
     "evalue": "name 'resultado' is not defined",
     "output_type": "error",
     "traceback": [
      "\u001b[1;31m---------------------------------------------------------------------------\u001b[0m",
      "\u001b[1;31mNameError\u001b[0m                                 Traceback (most recent call last)",
      "Cell \u001b[1;32mIn [4], line 15\u001b[0m\n\u001b[0;32m     13\u001b[0m         \u001b[38;5;28;01mbreak\u001b[39;00m\n\u001b[0;32m     14\u001b[0m     i \u001b[38;5;241m+\u001b[39m\u001b[38;5;241m=\u001b[39m \u001b[38;5;241m1\u001b[39m\n\u001b[1;32m---> 15\u001b[0m \u001b[38;5;28mprint\u001b[39m (\u001b[43mresultado\u001b[49m)\n",
      "\u001b[1;31mNameError\u001b[0m: name 'resultado' is not defined"
     ]
    }
   ],
   "source": [
    "from os import system\n",
    "system('cls')\n",
    "titulo = 'Verificador de número primo'\n",
    "print(titulo.center(80, '*'))\n",
    "\n",
    "num = int(input('Digite um número inteiro: '))\n",
    "\n",
    "resultado = 'O número é primo'\n",
    "i = 2\n",
    "while i < num:\n",
    "    resto = num % i \n",
    "    if resto == 0:\n",
    "        resultado = 'O número não é primo'\n",
    "        break\n",
    "    i += 1\n",
    "print (resultado)\n"
   ]
  }
 ],
 "metadata": {
  "interpreter": {
   "hash": "a44d9565d95ed83fda46a2df49423f972527c97a3717355289afb055bf2cf895"
  },
  "kernelspec": {
   "display_name": "Python 3.11.0 64-bit",
   "language": "python",
   "name": "python3"
  },
  "language_info": {
   "codemirror_mode": {
    "name": "ipython",
    "version": 3
   },
   "file_extension": ".py",
   "mimetype": "text/x-python",
   "name": "python",
   "nbconvert_exporter": "python",
   "pygments_lexer": "ipython3",
   "version": "3.11.0"
  },
  "orig_nbformat": 4
 },
 "nbformat": 4,
 "nbformat_minor": 2
}
