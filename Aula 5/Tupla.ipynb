{
 "cells": [
  {
   "cell_type": "markdown",
   "metadata": {},
   "source": [
    "Tupla   "
   ]
  },
  {
   "cell_type": "code",
   "execution_count": null,
   "metadata": {},
   "outputs": [],
   "source": [
    "numeros = ['zero', 'um','dois', 'três','quatro','cinco','seis','sete','oito','nove']\n",
    "print (numeros)\n",
    "print (numeros[0])\n",
    "print(numeros.index('dois'))\n",
    "print(numeros.count('dois'))\n",
    "print(len(numeros))\n",
    "dez = ('dez','onze','doze','treze','quatorze','quinze','dezesseis','dezessete','dezoito','dezenove')\n",
    "dezenas = ('','','vinte','trinta','quarenta','cinquenta','sessenta','setenta','oitenta','noventa')\n",
    "\n",
    "indice = int(input('Digite um numero entre 0 e 19: '))\n",
    "\n",
    "if indice <10:\n",
    "    extenso = numeros[indice]\n",
    "elif indice < 20:\n",
    "    extenso = dez[indice-10] # indice - 10 por causa do indice do dez \n",
    "elif indice <99:\n",
    "    dezena = int (indice/ 10) #indice /10 por causa do indice da dezena\n",
    "    numeral = indice % 10\n",
    "    if numeral > 0:\n",
    "        extenso = dezenas[dezena] + ' e ' + numeros [numeral] \n",
    "    else:\n",
    "        extenso = dezenas[dezena]     \n",
    "print(extenso)\n"
   ]
  },
  {
   "cell_type": "markdown",
   "metadata": {},
   "source": [
    "Faça um programa que digitado um número de 1 a 7, retorna um dia da semana e depois digitado um número de 1 a 12, retorne o mês"
   ]
  }
 ],
 "metadata": {
  "interpreter": {
   "hash": "a44d9565d95ed83fda46a2df49423f972527c97a3717355289afb055bf2cf895"
  },
  "kernelspec": {
   "display_name": "Python 3.11.0 64-bit",
   "language": "python",
   "name": "python3"
  },
  "language_info": {
   "codemirror_mode": {
    "name": "ipython",
    "version": 3
   },
   "file_extension": ".py",
   "mimetype": "text/x-python",
   "name": "python",
   "nbconvert_exporter": "python",
   "pygments_lexer": "ipython3",
   "version": "3.11.0"
  },
  "orig_nbformat": 4
 },
 "nbformat": 4,
 "nbformat_minor": 2
}
