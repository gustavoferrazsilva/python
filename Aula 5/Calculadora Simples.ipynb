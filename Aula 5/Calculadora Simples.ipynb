{
 "cells": [
  {
   "cell_type": "markdown",
   "metadata": {},
   "source": [
    "Calculadora Simples"
   ]
  },
  {
   "cell_type": "code",
   "execution_count": 18,
   "metadata": {},
   "outputs": [
    {
     "name": "stdout",
     "output_type": "stream",
     "text": [
      "####################Calculadora Simples#####################\n",
      "Escolha uma das opções do menu\n",
      "(+) - Adição\n",
      "(-) - Subtração\n",
      "(*) - Multiplicação\n",
      "(/) - Divisão\n",
      "\n"
     ]
    },
    {
     "ename": "ValueError",
     "evalue": "could not convert string to float: ''",
     "output_type": "error",
     "traceback": [
      "\u001b[1;31m---------------------------------------------------------------------------\u001b[0m",
      "\u001b[1;31mValueError\u001b[0m                                Traceback (most recent call last)",
      "Cell \u001b[1;32mIn [18], line 10\u001b[0m\n\u001b[0;32m      8\u001b[0m opcao \u001b[38;5;241m=\u001b[39m \u001b[38;5;28minput\u001b[39m (\u001b[38;5;124m'\u001b[39m\u001b[38;5;124mOpcao: \u001b[39m\u001b[38;5;124m'\u001b[39m)\n\u001b[0;32m      9\u001b[0m \u001b[38;5;28;01mwhile\u001b[39;00m opcao \u001b[38;5;241m!=\u001b[39m \u001b[38;5;124m'\u001b[39m\u001b[38;5;124ms\u001b[39m\u001b[38;5;124m'\u001b[39m:\n\u001b[1;32m---> 10\u001b[0m     num1 \u001b[38;5;241m=\u001b[39m \u001b[38;5;28;43mfloat\u001b[39;49m\u001b[43m(\u001b[49m\u001b[38;5;28;43minput\u001b[39;49m\u001b[43m(\u001b[49m\u001b[38;5;124;43m'\u001b[39;49m\u001b[38;5;124;43mInforme o primeiro valor: \u001b[39;49m\u001b[38;5;124;43m'\u001b[39;49m\u001b[43m)\u001b[49m\u001b[43m)\u001b[49m\n\u001b[0;32m     11\u001b[0m     num2 \u001b[38;5;241m=\u001b[39m \u001b[38;5;28mfloat\u001b[39m(\u001b[38;5;28minput\u001b[39m(\u001b[38;5;124m'\u001b[39m\u001b[38;5;124mInforme o segundo valor: \u001b[39m\u001b[38;5;124m'\u001b[39m))\n\u001b[0;32m     13\u001b[0m     \u001b[38;5;28;01mif\u001b[39;00m opcao \u001b[38;5;241m==\u001b[39m \u001b[38;5;124m'\u001b[39m\u001b[38;5;124m+\u001b[39m\u001b[38;5;124m'\u001b[39m: \n",
      "\u001b[1;31mValueError\u001b[0m: could not convert string to float: ''"
     ]
    }
   ],
   "source": [
    "from os import system\n",
    "system ('cls')\n",
    "titulo = 'Calculadora Simples'\n",
    "print (titulo.center(60,'#'))\n",
    "\n",
    "print ('Escolha uma das opções do menu')\n",
    "print ('(+) - Adição\\n(-) - Subtração\\n(*) - Multiplicação\\n(/) - Divisão\\n')\n",
    "opcao = input ('Opcao: ')\n",
    "while opcao != 's':\n",
    "    num1 = float(input('Informe o primeiro valor: '))\n",
    "    num2 = float(input('Informe o segundo valor: '))\n",
    "\n",
    "    if opcao == '+': \n",
    "        resultado = num1 + num2    \n",
    "    if opcao == '-':\n",
    "        resultado = num1 - num2\n",
    "    if opcao == '*':\n",
    "        resultado = num1 * num2    \n",
    "    if opcao == '/':\n",
    "        resultado = num1 / num2    \n",
    "\n",
    "    print (f'Você escolheu a operação de {opcao} o resultado é: {resultado}')\n",
    "\n",
    "    print ('Escolha uma das opções do menu')\n",
    "    print ('(+) - adição\\n(-) - subtração\\n(*) - multiplicação\\n(/) - divisão\\n')\n",
    "    opcao = input ('Opcao: ')\n",
    "    "
   ]
  }
 ],
 "metadata": {
  "interpreter": {
   "hash": "a44d9565d95ed83fda46a2df49423f972527c97a3717355289afb055bf2cf895"
  },
  "kernelspec": {
   "display_name": "Python 3.11.0 64-bit",
   "language": "python",
   "name": "python3"
  },
  "language_info": {
   "codemirror_mode": {
    "name": "ipython",
    "version": 3
   },
   "file_extension": ".py",
   "mimetype": "text/x-python",
   "name": "python",
   "nbconvert_exporter": "python",
   "pygments_lexer": "ipython3",
   "version": "3.11.0"
  },
  "orig_nbformat": 4
 },
 "nbformat": 4,
 "nbformat_minor": 2
}
