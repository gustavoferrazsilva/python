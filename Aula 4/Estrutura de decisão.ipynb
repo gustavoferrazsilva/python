{
 "cells": [
  {
   "cell_type": "markdown",
   "metadata": {},
   "source": [
    "Programa que verifica se uma letra digitada é vogal ou consoante"
   ]
  },
  {
   "cell_type": "code",
   "execution_count": 8,
   "metadata": {},
   "outputs": [
    {
     "name": "stdout",
     "output_type": "stream",
     "text": [
      "VOcê digitou uma consoante\n"
     ]
    }
   ],
   "source": [
    "vogais = ['a','e','i','o','u']\n",
    "letra = input ('Digite uma letra: ')\n",
    "\n",
    "if letra.lower () in vogais: #in significa que pertentece a lista\n",
    "    print ('Você digitou uma vogal')\n",
    "else:\n",
    "    print ('VOcê digitou uma consoante')"
   ]
  },
  {
   "cell_type": "markdown",
   "metadata": {},
   "source": [
    "Faça um programa que receba três numeros e mostre - os em ordem decrescente"
   ]
  },
  {
   "cell_type": "code",
   "execution_count": 28,
   "metadata": {},
   "outputs": [
    {
     "name": "stdout",
     "output_type": "stream",
     "text": [
      "************EXIBIR NUMEROS EM ORDEM DECRESCENTE*************\n",
      "894\n",
      "379\n",
      "87\n"
     ]
    }
   ],
   "source": [
    "from os import system\n",
    "import random\n",
    "system ('cls')\n",
    "\n",
    "titulo = 'EXIBIR NUMEROS EM ORDEM DECRESCENTE'\n",
    "print (titulo.center(60,'*'))\n",
    "\n",
    "num1 = random. randint (0,1000) #alt + shift + seta pra baixo: copiar \n",
    "num2 = random. randint (0,1000)\n",
    "num3 = random.randint (0,1000)\n",
    "\n",
    "if num1 > num2 and num1 > num3:\n",
    "    menor = num1\n",
    "elif num2 > num3:\n",
    "    maior = num2\n",
    "else:\n",
    "    maior = num3\n",
    "\n",
    "if num1 < num2 and num1 < num3:\n",
    "    menor = num1\n",
    "elif num2 < num3:\n",
    "    menor = num2\n",
    "else:\n",
    "    menor = num3\n",
    "\n",
    "if (num1 < num3 and num1 > num2) or (num1 > num3 and num1 < num3):\n",
    "    meio = num1\n",
    "elif (num2 < num1 and num2 > num3) or (num2 < num3 and num2 > num3):\n",
    "    meio = num2\n",
    "else:\n",
    "    meio = num3\n",
    "print(f'{maior}\\n{meio}\\n{menor}')\n"
   ]
  }
 ],
 "metadata": {
  "interpreter": {
   "hash": "a44d9565d95ed83fda46a2df49423f972527c97a3717355289afb055bf2cf895"
  },
  "kernelspec": {
   "display_name": "Python 3.11.0 64-bit",
   "language": "python",
   "name": "python3"
  },
  "language_info": {
   "codemirror_mode": {
    "name": "ipython",
    "version": 3
   },
   "file_extension": ".py",
   "mimetype": "text/x-python",
   "name": "python",
   "nbconvert_exporter": "python",
   "pygments_lexer": "ipython3",
   "version": "3.11.0"
  },
  "orig_nbformat": 4
 },
 "nbformat": 4,
 "nbformat_minor": 2
}
