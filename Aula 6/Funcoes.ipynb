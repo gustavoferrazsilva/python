{
 "cells": [
  {
   "cell_type": "markdown",
   "metadata": {},
   "source": [
    "Funções"
   ]
  },
  {
   "cell_type": "markdown",
   "metadata": {},
   "source": [
    "Sintaxe básica  "
   ]
  },
  {
   "cell_type": "code",
   "execution_count": null,
   "metadata": {},
   "outputs": [],
   "source": [
    "def nome_da_funca(parametros):\n",
    "    '''\n",
    "     corpo da funcao\n",
    "    ''' "
   ]
  },
  {
   "cell_type": "code",
   "execution_count": 6,
   "metadata": {},
   "outputs": [
    {
     "name": "stdout",
     "output_type": "stream",
     "text": [
      "Seja bem vindo\n"
     ]
    }
   ],
   "source": [
    "def exibe_mensagem ():\n",
    "    print ('Seja bem vindo')\n",
    "exibe_mensagem ()"
   ]
  },
  {
   "cell_type": "code",
   "execution_count": 8,
   "metadata": {},
   "outputs": [
    {
     "data": {
      "text/plain": [
       "'Seja bem vindo'"
      ]
     },
     "execution_count": 8,
     "metadata": {},
     "output_type": "execute_result"
    }
   ],
   "source": [
    "def exibe_mensagem ():\n",
    "    return ('Seja bem vindo')\n",
    "exibe_mensagem ()"
   ]
  },
  {
   "cell_type": "code",
   "execution_count": 7,
   "metadata": {},
   "outputs": [
    {
     "name": "stdout",
     "output_type": "stream",
     "text": [
      "Seja Bem-vindo\n"
     ]
    }
   ],
   "source": [
    "def exibe_mensagem (): #exibe a mensagem porque tem o comando print e uma mensagem\n",
    "    return ('Seja Bem-vindo') # return exibe a mensagem mas tudo como está escrito\n",
    "\n",
    "exibe_mensagem () # retorna um valor string\n",
    "print (exibe_mensagem()) #pega o retorno string e exibe com o comando print"
   ]
  },
  {
   "cell_type": "code",
   "execution_count": 28,
   "metadata": {},
   "outputs": [
    {
     "ename": "KeyboardInterrupt",
     "evalue": "Interrupted by user",
     "output_type": "error",
     "traceback": [
      "\u001b[1;31m---------------------------------------------------------------------------\u001b[0m",
      "\u001b[1;31mKeyboardInterrupt\u001b[0m                         Traceback (most recent call last)",
      "Cell \u001b[1;32mIn [28], line 29\u001b[0m\n\u001b[0;32m     27\u001b[0m opcao \u001b[38;5;241m=\u001b[39m \u001b[38;5;241m1\u001b[39m\n\u001b[0;32m     28\u001b[0m \u001b[38;5;28;01mwhile\u001b[39;00m opcao:\n\u001b[1;32m---> 29\u001b[0m     v1 \u001b[38;5;241m=\u001b[39m \u001b[38;5;28mfloat\u001b[39m (\u001b[38;5;28;43minput\u001b[39;49m\u001b[43m \u001b[49m\u001b[43m(\u001b[49m\u001b[38;5;124;43m'\u001b[39;49m\u001b[38;5;124;43mInforme o valor 1: \u001b[39;49m\u001b[38;5;124;43m'\u001b[39;49m\u001b[43m)\u001b[49m)\n\u001b[0;32m     30\u001b[0m     v2 \u001b[38;5;241m=\u001b[39m \u001b[38;5;28mfloat\u001b[39m (\u001b[38;5;28minput\u001b[39m (\u001b[38;5;124m'\u001b[39m\u001b[38;5;124mInforme o valor 2: \u001b[39m\u001b[38;5;124m'\u001b[39m))\n\u001b[0;32m     31\u001b[0m     operador \u001b[38;5;241m=\u001b[39m \u001b[38;5;28mint\u001b[39m (\u001b[38;5;28minput\u001b[39m(\u001b[38;5;124m'''\u001b[39m\u001b[38;5;124m \u001b[39m\n\u001b[0;32m     32\u001b[0m \u001b[38;5;124m    1. Somar\u001b[39m\n\u001b[0;32m     33\u001b[0m \u001b[38;5;124m    2. Subtrair\u001b[39m\n\u001b[1;32m   (...)\u001b[0m\n\u001b[0;32m     36\u001b[0m \u001b[38;5;124m    Opção:\u001b[39m\n\u001b[0;32m     37\u001b[0m \u001b[38;5;124m    \u001b[39m\u001b[38;5;124m'''\u001b[39m))\n",
      "File \u001b[1;32m~\\AppData\\Local\\Programs\\Python\\Python311\\Lib\\site-packages\\ipykernel\\kernelbase.py:1177\u001b[0m, in \u001b[0;36mKernel.raw_input\u001b[1;34m(self, prompt)\u001b[0m\n\u001b[0;32m   <a href='file:///c%3A/Users/gustavo.fsilva66/AppData/Local/Programs/Python/Python311/Lib/site-packages/ipykernel/kernelbase.py?line=1172'>1173</a>\u001b[0m \u001b[39mif\u001b[39;00m \u001b[39mnot\u001b[39;00m \u001b[39mself\u001b[39m\u001b[39m.\u001b[39m_allow_stdin:\n\u001b[0;32m   <a href='file:///c%3A/Users/gustavo.fsilva66/AppData/Local/Programs/Python/Python311/Lib/site-packages/ipykernel/kernelbase.py?line=1173'>1174</a>\u001b[0m     \u001b[39mraise\u001b[39;00m StdinNotImplementedError(\n\u001b[0;32m   <a href='file:///c%3A/Users/gustavo.fsilva66/AppData/Local/Programs/Python/Python311/Lib/site-packages/ipykernel/kernelbase.py?line=1174'>1175</a>\u001b[0m         \u001b[39m\"\u001b[39m\u001b[39mraw_input was called, but this frontend does not support input requests.\u001b[39m\u001b[39m\"\u001b[39m\n\u001b[0;32m   <a href='file:///c%3A/Users/gustavo.fsilva66/AppData/Local/Programs/Python/Python311/Lib/site-packages/ipykernel/kernelbase.py?line=1175'>1176</a>\u001b[0m     )\n\u001b[1;32m-> <a href='file:///c%3A/Users/gustavo.fsilva66/AppData/Local/Programs/Python/Python311/Lib/site-packages/ipykernel/kernelbase.py?line=1176'>1177</a>\u001b[0m \u001b[39mreturn\u001b[39;00m \u001b[39mself\u001b[39;49m\u001b[39m.\u001b[39;49m_input_request(\n\u001b[0;32m   <a href='file:///c%3A/Users/gustavo.fsilva66/AppData/Local/Programs/Python/Python311/Lib/site-packages/ipykernel/kernelbase.py?line=1177'>1178</a>\u001b[0m     \u001b[39mstr\u001b[39;49m(prompt),\n\u001b[0;32m   <a href='file:///c%3A/Users/gustavo.fsilva66/AppData/Local/Programs/Python/Python311/Lib/site-packages/ipykernel/kernelbase.py?line=1178'>1179</a>\u001b[0m     \u001b[39mself\u001b[39;49m\u001b[39m.\u001b[39;49m_parent_ident[\u001b[39m\"\u001b[39;49m\u001b[39mshell\u001b[39;49m\u001b[39m\"\u001b[39;49m],\n\u001b[0;32m   <a href='file:///c%3A/Users/gustavo.fsilva66/AppData/Local/Programs/Python/Python311/Lib/site-packages/ipykernel/kernelbase.py?line=1179'>1180</a>\u001b[0m     \u001b[39mself\u001b[39;49m\u001b[39m.\u001b[39;49mget_parent(\u001b[39m\"\u001b[39;49m\u001b[39mshell\u001b[39;49m\u001b[39m\"\u001b[39;49m),\n\u001b[0;32m   <a href='file:///c%3A/Users/gustavo.fsilva66/AppData/Local/Programs/Python/Python311/Lib/site-packages/ipykernel/kernelbase.py?line=1180'>1181</a>\u001b[0m     password\u001b[39m=\u001b[39;49m\u001b[39mFalse\u001b[39;49;00m,\n\u001b[0;32m   <a href='file:///c%3A/Users/gustavo.fsilva66/AppData/Local/Programs/Python/Python311/Lib/site-packages/ipykernel/kernelbase.py?line=1181'>1182</a>\u001b[0m )\n",
      "File \u001b[1;32m~\\AppData\\Local\\Programs\\Python\\Python311\\Lib\\site-packages\\ipykernel\\kernelbase.py:1219\u001b[0m, in \u001b[0;36mKernel._input_request\u001b[1;34m(self, prompt, ident, parent, password)\u001b[0m\n\u001b[0;32m   <a href='file:///c%3A/Users/gustavo.fsilva66/AppData/Local/Programs/Python/Python311/Lib/site-packages/ipykernel/kernelbase.py?line=1215'>1216</a>\u001b[0m             \u001b[39mbreak\u001b[39;00m\n\u001b[0;32m   <a href='file:///c%3A/Users/gustavo.fsilva66/AppData/Local/Programs/Python/Python311/Lib/site-packages/ipykernel/kernelbase.py?line=1216'>1217</a>\u001b[0m \u001b[39mexcept\u001b[39;00m \u001b[39mKeyboardInterrupt\u001b[39;00m:\n\u001b[0;32m   <a href='file:///c%3A/Users/gustavo.fsilva66/AppData/Local/Programs/Python/Python311/Lib/site-packages/ipykernel/kernelbase.py?line=1217'>1218</a>\u001b[0m     \u001b[39m# re-raise KeyboardInterrupt, to truncate traceback\u001b[39;00m\n\u001b[1;32m-> <a href='file:///c%3A/Users/gustavo.fsilva66/AppData/Local/Programs/Python/Python311/Lib/site-packages/ipykernel/kernelbase.py?line=1218'>1219</a>\u001b[0m     \u001b[39mraise\u001b[39;00m \u001b[39mKeyboardInterrupt\u001b[39;00m(\u001b[39m\"\u001b[39m\u001b[39mInterrupted by user\u001b[39m\u001b[39m\"\u001b[39m) \u001b[39mfrom\u001b[39;00m \u001b[39mNone\u001b[39m\n\u001b[0;32m   <a href='file:///c%3A/Users/gustavo.fsilva66/AppData/Local/Programs/Python/Python311/Lib/site-packages/ipykernel/kernelbase.py?line=1219'>1220</a>\u001b[0m \u001b[39mexcept\u001b[39;00m \u001b[39mException\u001b[39;00m:\n\u001b[0;32m   <a href='file:///c%3A/Users/gustavo.fsilva66/AppData/Local/Programs/Python/Python311/Lib/site-packages/ipykernel/kernelbase.py?line=1220'>1221</a>\u001b[0m     \u001b[39mself\u001b[39m\u001b[39m.\u001b[39mlog\u001b[39m.\u001b[39mwarning(\u001b[39m\"\u001b[39m\u001b[39mInvalid Message:\u001b[39m\u001b[39m\"\u001b[39m, exc_info\u001b[39m=\u001b[39m\u001b[39mTrue\u001b[39;00m)\n",
      "\u001b[1;31mKeyboardInterrupt\u001b[0m: Interrupted by user"
     ]
    }
   ],
   "source": [
    "from os import system\n",
    "\n",
    "def soma (v1, v2):\n",
    "    try:\n",
    "        return float(v1) + float(v2)\n",
    "    except:\n",
    "        return False \n",
    "    \n",
    "def subtraca (v1, v2):\n",
    "    return v1 - v2\n",
    "\n",
    "def multiplicacao (v1,v2):\n",
    "    return v1*v2\n",
    "\n",
    "def divisao (v1,v2):\n",
    "    \"\"\"if v1 == 0 or v2 == 0:\n",
    "    return False \"\"\"\n",
    "    try:\n",
    "        return float (v1)/float (v2)\n",
    "    except ZeroDivisionError as error:\n",
    "        print (error)\n",
    "        return False\n",
    "    except:\n",
    "        print('erro conversao')\n",
    "        return False\n",
    "        \n",
    "opcao = 1\n",
    "while opcao:\n",
    "    v1 = float (input ('Informe o valor 1: '))\n",
    "    v2 = float (input ('Informe o valor 2: '))\n",
    "    operador = int (input(''' \n",
    "    1. Somar\n",
    "    2. Subtrair\n",
    "    3. Multiplicar\n",
    "    4. Dividir\n",
    "    Opção:\n",
    "    '''))\n",
    "    if operador == 1:\n",
    "        print (f'Soma: {soma(v1,v2)}')\n",
    "    if operador == 2:\n",
    "        print (f'Subtrair: {subtraca(v1,v2)}')\n",
    "    if operador == 3:\n",
    "        print (f'Multiplicar: {multiplicacao(v1,v2)}')\n",
    "    if operador == 4:\n",
    "        print (f'Dividir: {divisao(v1,v2)}')\n",
    "    \n",
    "    opcao = input (f'\\nAperte 0 para sair ou Enter para continuar')\n",
    "    if opcao == \"0\":\n",
    "        opcao = int(opcao) \n",
    "    else:\n",
    "        opcao=1\n"
   ]
  },
  {
   "cell_type": "markdown",
   "metadata": {},
   "source": [
    "Uso das funções da Biblioteca Math"
   ]
  },
  {
   "cell_type": "code",
   "execution_count": null,
   "metadata": {},
   "outputs": [],
   "source": [
    "from os import system\n",
    "import math, random\n",
    "#help (math)\n",
    "#help (random)\n",
    "\n",
    "#inteiro pra cima\n",
    "print(math.ceil(4.2))\n",
    "\n",
    "#inteiro pra baixo\n",
    "print(math.floor(3.9))\n",
    "\n",
    "#numero absoluto\n",
    "print(math.fabs(-1))\n",
    "\n",
    "#mod = resto de uma divisao\n",
    "print(math.fmod(9,4))\n",
    "print(f'{11%4}')\n",
    "\n",
    "#raiz quadrada\n",
    "print(math.sqrt(36))\n",
    "\n",
    "#potencia\n",
    "print(math.pow(2,2))\n",
    "\n",
    "#arredondamento não faz parte da math\n",
    "print (round(4.989,2))"
   ]
  },
  {
   "cell_type": "markdown",
   "metadata": {},
   "source": [
    "Funções de datas"
   ]
  },
  {
   "cell_type": "code",
   "execution_count": 92,
   "metadata": {},
   "outputs": [
    {
     "name": "stdout",
     "output_type": "stream",
     "text": [
      "1986-02-07\n",
      "1986\n",
      "2\n",
      "7\n",
      "2022-11-24\n",
      "3\n",
      "22:21:26.589435\n",
      "22\n",
      "21\n",
      "26\n",
      "47\n"
     ]
    },
    {
     "ename": "ValueError",
     "evalue": "time data '02/02/02' does not match format '%d/%m/%Y'",
     "output_type": "error",
     "traceback": [
      "\u001b[1;31m---------------------------------------------------------------------------\u001b[0m",
      "\u001b[1;31mValueError\u001b[0m                                Traceback (most recent call last)",
      "Cell \u001b[1;32mIn [92], line 40\u001b[0m\n\u001b[0;32m     38\u001b[0m \u001b[38;5;28mprint\u001b[39m\u001b[38;5;66;03m#\u001b[39;00m\n\u001b[0;32m     39\u001b[0m \u001b[38;5;66;03m#dataNascimento = input ('Informe a sua data de nascimento (dd/mm/aaaa): ')\u001b[39;00m\n\u001b[1;32m---> 40\u001b[0m dataNascimento \u001b[38;5;241m=\u001b[39m \u001b[43mdatetime\u001b[49m\u001b[38;5;241;43m.\u001b[39;49m\u001b[43mstrptime\u001b[49m\u001b[43m(\u001b[49m\u001b[43mdataNascimento\u001b[49m\u001b[43m,\u001b[49m\u001b[38;5;124;43m'\u001b[39;49m\u001b[38;5;132;43;01m%d\u001b[39;49;00m\u001b[38;5;124;43m/\u001b[39;49m\u001b[38;5;124;43m%\u001b[39;49m\u001b[38;5;124;43mm/\u001b[39;49m\u001b[38;5;124;43m%\u001b[39;49m\u001b[38;5;124;43mY\u001b[39;49m\u001b[38;5;124;43m'\u001b[39;49m\u001b[43m \u001b[49m\u001b[43m)\u001b[49m \n\u001b[0;32m     41\u001b[0m \u001b[38;5;28mprint\u001b[39m (dataNascimento)\n\u001b[0;32m     43\u001b[0m \u001b[38;5;28mprint\u001b[39m(\u001b[38;5;124mf\u001b[39m\u001b[38;5;124m'\u001b[39m\u001b[38;5;124mSua idade é: \u001b[39m\u001b[38;5;132;01m{\u001b[39;00midade(dataNascimento)\u001b[38;5;132;01m}\u001b[39;00m\u001b[38;5;124m anos\u001b[39m\u001b[38;5;124m'\u001b[39m)\n",
      "File \u001b[1;32m~\\AppData\\Local\\Programs\\Python\\Python311\\Lib\\_strptime.py:568\u001b[0m, in \u001b[0;36m_strptime_datetime\u001b[1;34m(cls, data_string, format)\u001b[0m\n\u001b[0;32m    <a href='file:///c%3A/Users/gustavo.fsilva66/AppData/Local/Programs/Python/Python311/Lib/_strptime.py?line=564'>565</a>\u001b[0m \u001b[39mdef\u001b[39;00m \u001b[39m_strptime_datetime\u001b[39m(\u001b[39mcls\u001b[39m, data_string, \u001b[39mformat\u001b[39m\u001b[39m=\u001b[39m\u001b[39m\"\u001b[39m\u001b[39m%a\u001b[39;00m\u001b[39m \u001b[39m\u001b[39m%\u001b[39m\u001b[39mb \u001b[39m\u001b[39m%d\u001b[39;00m\u001b[39m \u001b[39m\u001b[39m%\u001b[39m\u001b[39mH:\u001b[39m\u001b[39m%\u001b[39m\u001b[39mM:\u001b[39m\u001b[39m%\u001b[39m\u001b[39mS \u001b[39m\u001b[39m%\u001b[39m\u001b[39mY\u001b[39m\u001b[39m\"\u001b[39m):\n\u001b[0;32m    <a href='file:///c%3A/Users/gustavo.fsilva66/AppData/Local/Programs/Python/Python311/Lib/_strptime.py?line=565'>566</a>\u001b[0m     \u001b[39m\"\"\"Return a class cls instance based on the input string and the\u001b[39;00m\n\u001b[0;32m    <a href='file:///c%3A/Users/gustavo.fsilva66/AppData/Local/Programs/Python/Python311/Lib/_strptime.py?line=566'>567</a>\u001b[0m \u001b[39m    format string.\"\"\"\u001b[39;00m\n\u001b[1;32m--> <a href='file:///c%3A/Users/gustavo.fsilva66/AppData/Local/Programs/Python/Python311/Lib/_strptime.py?line=567'>568</a>\u001b[0m     tt, fraction, gmtoff_fraction \u001b[39m=\u001b[39m _strptime(data_string, \u001b[39mformat\u001b[39;49m)\n\u001b[0;32m    <a href='file:///c%3A/Users/gustavo.fsilva66/AppData/Local/Programs/Python/Python311/Lib/_strptime.py?line=568'>569</a>\u001b[0m     tzname, gmtoff \u001b[39m=\u001b[39m tt[\u001b[39m-\u001b[39m\u001b[39m2\u001b[39m:]\n\u001b[0;32m    <a href='file:///c%3A/Users/gustavo.fsilva66/AppData/Local/Programs/Python/Python311/Lib/_strptime.py?line=569'>570</a>\u001b[0m     args \u001b[39m=\u001b[39m tt[:\u001b[39m6\u001b[39m] \u001b[39m+\u001b[39m (fraction,)\n",
      "File \u001b[1;32m~\\AppData\\Local\\Programs\\Python\\Python311\\Lib\\_strptime.py:349\u001b[0m, in \u001b[0;36m_strptime\u001b[1;34m(data_string, format)\u001b[0m\n\u001b[0;32m    <a href='file:///c%3A/Users/gustavo.fsilva66/AppData/Local/Programs/Python/Python311/Lib/_strptime.py?line=346'>347</a>\u001b[0m found \u001b[39m=\u001b[39m format_regex\u001b[39m.\u001b[39mmatch(data_string)\n\u001b[0;32m    <a href='file:///c%3A/Users/gustavo.fsilva66/AppData/Local/Programs/Python/Python311/Lib/_strptime.py?line=347'>348</a>\u001b[0m \u001b[39mif\u001b[39;00m \u001b[39mnot\u001b[39;00m found:\n\u001b[1;32m--> <a href='file:///c%3A/Users/gustavo.fsilva66/AppData/Local/Programs/Python/Python311/Lib/_strptime.py?line=348'>349</a>\u001b[0m     \u001b[39mraise\u001b[39;00m \u001b[39mValueError\u001b[39;00m(\u001b[39m\"\u001b[39m\u001b[39mtime data \u001b[39m\u001b[39m%r\u001b[39;00m\u001b[39m does not match format \u001b[39m\u001b[39m%r\u001b[39;00m\u001b[39m\"\u001b[39m \u001b[39m%\u001b[39m\n\u001b[0;32m    <a href='file:///c%3A/Users/gustavo.fsilva66/AppData/Local/Programs/Python/Python311/Lib/_strptime.py?line=349'>350</a>\u001b[0m                      (data_string, \u001b[39mformat\u001b[39m))\n\u001b[0;32m    <a href='file:///c%3A/Users/gustavo.fsilva66/AppData/Local/Programs/Python/Python311/Lib/_strptime.py?line=350'>351</a>\u001b[0m \u001b[39mif\u001b[39;00m \u001b[39mlen\u001b[39m(data_string) \u001b[39m!=\u001b[39m found\u001b[39m.\u001b[39mend():\n\u001b[0;32m    <a href='file:///c%3A/Users/gustavo.fsilva66/AppData/Local/Programs/Python/Python311/Lib/_strptime.py?line=351'>352</a>\u001b[0m     \u001b[39mraise\u001b[39;00m \u001b[39mValueError\u001b[39;00m(\u001b[39m\"\u001b[39m\u001b[39munconverted data remains: \u001b[39m\u001b[39m%s\u001b[39;00m\u001b[39m\"\u001b[39m \u001b[39m%\u001b[39m\n\u001b[0;32m    <a href='file:///c%3A/Users/gustavo.fsilva66/AppData/Local/Programs/Python/Python311/Lib/_strptime.py?line=352'>353</a>\u001b[0m                       data_string[found\u001b[39m.\u001b[39mend():])\n",
      "\u001b[1;31mValueError\u001b[0m: time data '02/02/02' does not match format '%d/%m/%Y'"
     ]
    }
   ],
   "source": [
    "from datetime import datetime,date, time, timedelta \n",
    "\n",
    "data = date(1986,2,7) # nascimento professor\n",
    "print (data)\n",
    "\n",
    "print (data.year)\n",
    "print (data.month)\n",
    "print (data.day)\n",
    "\n",
    "dataHoje = datetime.now()\n",
    "print (dataHoje.date())\n",
    "print (dataHoje.weekday())\n",
    "print(dataHoje.time())\n",
    "print(dataHoje.hour)\n",
    "print(dataHoje.minute)\n",
    "print(dataHoje.second)\n",
    "\n",
    "calendario = dataHoje.isocalendar()\n",
    "print(calendario.week)\n",
    "\n",
    "def idade(nascimento):\n",
    "    today = datetime.now()\n",
    "    print (today.year - nascimento.year) - ((today.month,today.day)) < (nascimento.month,nascimento.day)\n",
    "    return today.year - nascimento.year ((today.month,today.day)) < (nascimento.month, nascimento.day)\n",
    "\n",
    "def TotalDiasVividos(nascimento):\n",
    "    today =  datetime.now()\n",
    "    return abs ((nascimento - today).days)\n",
    "\n",
    "#def inicioFimSemana ():    \n",
    "    if (datetime.today().isoweekday() %7  - 1) < 0:\n",
    "        diaInicioSemana = 7 - 1\n",
    "    else:\n",
    "        diaInicioSemana = datetime.today().isoweekday() % 7  - 1\n",
    "    dataInicioSemana = datetime.today() - timedelta (days=diaInicioSemana)\n",
    "    dataFimSemana = dataInicioSemana + timedelta (days=6)\n",
    "print(dataInicioSemana) \n",
    "print\n",
    "dataNascimento = input ('Informe a sua data de nascimento (dd/mm/aaaa): ')\n",
    "dataNascimento = datetime.strptime(dataNascimento,'%d/%m/%Y' ) \n",
    "print (dataNascimento)\n",
    "\n",
    "print(f'Sua idade é: {idade(dataNascimento)} anos')\n",
    "print(f'Você já viveu {TotalDiasVividos(dataNascimento)} dias abençoados ')"
   ]
  }
 ],
 "metadata": {
  "interpreter": {
   "hash": "a44d9565d95ed83fda46a2df49423f972527c97a3717355289afb055bf2cf895"
  },
  "kernelspec": {
   "display_name": "Python 3.11.0 64-bit",
   "language": "python",
   "name": "python3"
  },
  "language_info": {
   "codemirror_mode": {
    "name": "ipython",
    "version": 3
   },
   "file_extension": ".py",
   "mimetype": "text/x-python",
   "name": "python",
   "nbconvert_exporter": "python",
   "pygments_lexer": "ipython3",
   "version": "3.11.0"
  },
  "orig_nbformat": 4
 },
 "nbformat": 4,
 "nbformat_minor": 2
}
