{
 "cells": [
  {
   "cell_type": "markdown",
   "metadata": {},
   "source": [
    "Listas"
   ]
  },
  {
   "cell_type": "code",
   "execution_count": 2,
   "metadata": {},
   "outputs": [
    {
     "name": "stdout",
     "output_type": "stream",
     "text": [
      "['Catarina', 'Felipe', 1986, 2022]\n"
     ]
    }
   ],
   "source": [
    "lista1 = ['Catarina','Felipe',1986,2002]\n",
    "print (lista1)"
   ]
  },
  {
   "cell_type": "markdown",
   "metadata": {},
   "source": [
    "Acessando o elemento de uma lista atraves de seu indice"
   ]
  },
  {
   "cell_type": "code",
   "execution_count": 5,
   "metadata": {},
   "outputs": [
    {
     "name": "stdout",
     "output_type": "stream",
     "text": [
      "Catarina\n"
     ]
    }
   ],
   "source": [
    "lista1 = ['Catarina','Felipe',1986,2002]\n",
    "print (lista1[0])"
   ]
  },
  {
   "cell_type": "markdown",
   "metadata": {},
   "source": [
    "Descobrindo o indice de um determinado elemento"
   ]
  },
  {
   "cell_type": "code",
   "execution_count": 7,
   "metadata": {},
   "outputs": [
    {
     "name": "stdout",
     "output_type": "stream",
     "text": [
      "0\n"
     ]
    }
   ],
   "source": [
    "lista1 = ['Catarina','Felipe',1986,2002]\n",
    "print (lista1.index('Catarina'))\n",
    "# index retorna o número do índice de um elmento que está na lista\n",
    "# se não estiver retorna ValueError"
   ]
  },
  {
   "cell_type": "markdown",
   "metadata": {},
   "source": [
    "Descobrindo total de elementos de uma lista"
   ]
  },
  {
   "cell_type": "code",
   "execution_count": 8,
   "metadata": {},
   "outputs": [
    {
     "name": "stdout",
     "output_type": "stream",
     "text": [
      "4\n"
     ]
    }
   ],
   "source": [
    "lista1 = ['Catarina','Felipe',1986,2002]\n",
    "print (len(lista1))"
   ]
  },
  {
   "cell_type": "markdown",
   "metadata": {},
   "source": [
    "Adicionando elementos em uma lista"
   ]
  },
  {
   "cell_type": "code",
   "execution_count": 9,
   "metadata": {},
   "outputs": [
    {
     "name": "stdout",
     "output_type": "stream",
     "text": [
      "['Catarina', 'Felipe', 1986, 2022, 'Adolfo', 'Fabio', 'Isabela']\n"
     ]
    }
   ],
   "source": [
    "lista1 = ['Catarina','Felipe',1986,2002]\n",
    "lista1. append('Adolfo') \n",
    "lista1. append('Fabio') \n",
    "lista1. append('Isabela')\n",
    "# append insere elemento no final da lista\n",
    "print(lista1) "
   ]
  },
  {
   "cell_type": "markdown",
   "metadata": {},
   "source": [
    "Adicionando o elemento em uma posição específica"
   ]
  },
  {
   "cell_type": "code",
   "execution_count": 10,
   "metadata": {},
   "outputs": [
    {
     "name": "stdout",
     "output_type": "stream",
     "text": [
      "['Catarina', 'Adolfo', 1986, 2022]\n"
     ]
    }
   ],
   "source": [
    "lista1 = ['Catarina','Felipe',1986,2002]\n",
    "lista1[1] = ('Adolfo') \n",
    "print(lista1)\n",
    "# sobrescreve o valor no índice"
   ]
  },
  {
   "cell_type": "markdown",
   "metadata": {},
   "source": [
    "Adicionando novo elemento via função insert ()                  "
   ]
  },
  {
   "cell_type": "code",
   "execution_count": 11,
   "metadata": {},
   "outputs": [
    {
     "name": "stdout",
     "output_type": "stream",
     "text": [
      "['Catarina', 'Felipe', 'Adolfo', 1986, 2002]\n"
     ]
    }
   ],
   "source": [
    "lista1 = ['Catarina','Felipe',1986,2002]\n",
    "lista1.insert(2,'Adolfo')\n",
    "print(lista1)\n",
    "# adiciona o valor no índice"
   ]
  }
 ],
 "metadata": {
  "interpreter": {
   "hash": "a44d9565d95ed83fda46a2df49423f972527c97a3717355289afb055bf2cf895"
  },
  "kernelspec": {
   "display_name": "Python 3.11.0 64-bit",
   "language": "python",
   "name": "python3"
  },
  "language_info": {
   "codemirror_mode": {
    "name": "ipython",
    "version": 3
   },
   "file_extension": ".py",
   "mimetype": "text/x-python",
   "name": "python",
   "nbconvert_exporter": "python",
   "pygments_lexer": "ipython3",
   "version": "3.11.0"
  },
  "orig_nbformat": 4
 },
 "nbformat": 4,
 "nbformat_minor": 2
}
